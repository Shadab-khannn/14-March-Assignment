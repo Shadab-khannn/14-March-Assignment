{
 "cells": [
  {
   "cell_type": "code",
   "execution_count": null,
   "id": "6e7912b1-1454-46cc-abf1-1cd66a33a364",
   "metadata": {},
   "outputs": [],
   "source": [
    "Q1. Write a Python function that takes in two arrays of data and calculates the F-value for a variance ratio\n",
    "test. The function should return the F-value and the corresponding p-value for the test."
   ]
  },
  {
   "cell_type": "markdown",
   "id": "4a13f764-c16b-463b-b9c1-e3550a64d091",
   "metadata": {},
   "source": [
    "ANS -"
   ]
  },
  {
   "cell_type": "code",
   "execution_count": null,
   "id": "3a366058-bfea-4ce5-8c5b-58b055f260da",
   "metadata": {},
   "outputs": [],
   "source": [
    "To calculate the F-value for a variance ratio test in Python, you can use the f_oneway() function from the scipy.stats module.\n",
    "This function takes in two or more arrays of data and returns the F-value and the corresponding p-value for the test."
   ]
  },
  {
   "cell_type": "code",
   "execution_count": 1,
   "id": "490b96aa-0c72-40e0-8488-3607d3d38339",
   "metadata": {},
   "outputs": [
    {
     "name": "stdout",
     "output_type": "stream",
     "text": [
      "F-value: 25.0\n",
      "p-value: 0.0010528257933665396\n"
     ]
    }
   ],
   "source": [
    "from scipy.stats import f_oneway\n",
    "\n",
    "data1 = [1, 2, 3, 4, 5]\n",
    "data2 = [6, 7, 8, 9, 10]\n",
    "\n",
    "F_value, p_value = f_oneway(data1, data2)\n",
    "\n",
    "print(\"F-value:\", F_value)\n",
    "print(\"p-value:\", p_value)\n"
   ]
  },
  {
   "cell_type": "code",
   "execution_count": null,
   "id": "bef60d93-86a8-49e5-8f8d-7576d65c4995",
   "metadata": {},
   "outputs": [],
   "source": []
  },
  {
   "cell_type": "code",
   "execution_count": null,
   "id": "2439eede-57e9-4d71-af01-7374d9f7d995",
   "metadata": {},
   "outputs": [],
   "source": []
  },
  {
   "cell_type": "code",
   "execution_count": null,
   "id": "9af7b654-0edb-443a-a57d-421cb7ab52d3",
   "metadata": {},
   "outputs": [],
   "source": [
    "Q2. Given a significance level of 0.05 and the degrees of freedom for the numerator and denominator of an\n",
    "F-distribution, write a Python function that returns the critical F-value for a two-tailed test."
   ]
  },
  {
   "cell_type": "markdown",
   "id": "08690d92-1961-4b86-84aa-7dc209b0d0e0",
   "metadata": {},
   "source": [
    "ANS -"
   ]
  },
  {
   "cell_type": "code",
   "execution_count": null,
   "id": "f9cc2af6-04ea-48e1-a6ec-7eedb2b345cb",
   "metadata": {},
   "outputs": [],
   "source": [
    "Python function to find the critical F-value for a two-tailed test given a significance level of 0.05 and the degrees of freedom for \n",
    "the numerator and denominator of an F-distribution:"
   ]
  },
  {
   "cell_type": "code",
   "execution_count": 2,
   "id": "3b57dc6d-904f-497a-8db7-e84224864d9b",
   "metadata": {},
   "outputs": [],
   "source": [
    "from scipy.stats import f\n",
    "\n",
    "def critical_f_value(significance_level, dfn, dfd):\n",
    "    return f.ppf(1 - significance_level / 2, dfn, dfd)\n"
   ]
  },
  {
   "cell_type": "code",
   "execution_count": null,
   "id": "b6591834-a8b3-4e7d-862f-d20304805515",
   "metadata": {},
   "outputs": [],
   "source": []
  },
  {
   "cell_type": "code",
   "execution_count": null,
   "id": "5014edf5-80d4-4b7b-a884-24a02ebfe912",
   "metadata": {},
   "outputs": [],
   "source": []
  },
  {
   "cell_type": "code",
   "execution_count": null,
   "id": "bcee1948-4be3-4223-80cb-a9fff39ea515",
   "metadata": {},
   "outputs": [],
   "source": [
    "Q3. Write a Python program that generates random samples from two normal distributions with known\n",
    "\n",
    "variances and uses an F-test to determine if the variances are equal. The program should output the F-\n",
    "value, degrees of freedom, and p-value for the test."
   ]
  },
  {
   "cell_type": "markdown",
   "id": "ca64dcbc-8321-48c8-a160-a80aa02d1f95",
   "metadata": {},
   "source": [
    "ANS -"
   ]
  },
  {
   "cell_type": "code",
   "execution_count": null,
   "id": "9c66e059-adc6-423d-8815-a05855cd3dc0",
   "metadata": {},
   "outputs": [],
   "source": [
    "Python program that generates random samples from two normal distributions with known variances and uses an F-test to determine if \n",
    "the variances are equal. The program outputs the F-value, degrees of freedom, and p-value for the test."
   ]
  },
  {
   "cell_type": "code",
   "execution_count": 3,
   "id": "26996639-ef59-40a1-afd0-4d722ee56549",
   "metadata": {},
   "outputs": [
    {
     "name": "stdout",
     "output_type": "stream",
     "text": [
      "F-value: 0.424\n",
      "Degrees of freedom: 99, 99\n",
      "P-value: 1.000\n"
     ]
    }
   ],
   "source": [
    "import numpy as np\n",
    "from scipy.stats import f\n",
    "\n",
    "def f_test(var1, var2):\n",
    "    f_value = np.var(var1) / np.var(var2)\n",
    "    df1 = len(var1) - 1\n",
    "    df2 = len(var2) - 1\n",
    "    p_value = 1 - f.cdf(f_value, df1, df2)\n",
    "    return f_value, df1, df2, p_value\n",
    "\n",
    "variance_1 = 5\n",
    "variance_2 = 10\n",
    "\n",
    "sample_1 = np.random.normal(0, np.sqrt(variance_1), size=100)\n",
    "sample_2 = np.random.normal(0, np.sqrt(variance_2), size=100)\n",
    "\n",
    "f_value, df1, df2, p_value = f_test(sample_1, sample_2)\n",
    "\n",
    "print(f\"F-value: {f_value:.3f}\")\n",
    "print(f\"Degrees of freedom: {df1}, {df2}\")\n",
    "print(f\"P-value: {p_value:.3f}\")\n"
   ]
  },
  {
   "cell_type": "code",
   "execution_count": null,
   "id": "9e25819a-f5be-4a45-896b-5425fa7a66d7",
   "metadata": {},
   "outputs": [],
   "source": []
  },
  {
   "cell_type": "code",
   "execution_count": null,
   "id": "17ad912c-710e-4fe0-9b00-3bae71c82210",
   "metadata": {},
   "outputs": [],
   "source": []
  },
  {
   "cell_type": "code",
   "execution_count": null,
   "id": "e91c714a-9442-4eff-97e1-2fc1f2f9c66a",
   "metadata": {},
   "outputs": [],
   "source": [
    "Q4.The variances of two populations are known to be 10 and 15. A sample of 12 observations is taken from\n",
    "each population. Conduct an F-test at the 5% significance level to determine if the variances are\n",
    "significantly different."
   ]
  },
  {
   "cell_type": "markdown",
   "id": "f7c8ff54-3475-4899-a66d-91926954796f",
   "metadata": {},
   "source": [
    "ANS -"
   ]
  },
  {
   "cell_type": "code",
   "execution_count": null,
   "id": "bd61c268-2f49-4870-92a2-edc1b201cc2c",
   "metadata": {},
   "outputs": [],
   "source": [
    "To test if the variances of two populations are significantly different, we can use an F-test. The null hypothesis is that the \n",
    "variances are equal. The alternative hypothesis is that the variances are not equal.\n",
    "\n",
    "In this case, we have two populations with known variances of 10 and 15. We take a sample of 12 observations from each population. \n",
    "To conduct an F-test at the 5% significance level to determine if the variances are significantly different, we can use the following\n",
    "formula:"
   ]
  },
  {
   "cell_type": "code",
   "execution_count": null,
   "id": "2f6ba88e-fbf4-4ed0-a285-7022f95e3057",
   "metadata": {},
   "outputs": [],
   "source": [
    "F = s1^2 / s2^2"
   ]
  },
  {
   "cell_type": "code",
   "execution_count": null,
   "id": "ba6c6034-a8b1-4412-9ff5-d34b5810dbf9",
   "metadata": {},
   "outputs": [],
   "source": [
    "where s1^2 is the sample variance of the first population and s2^2 is the sample variance of the second population"
   ]
  },
  {
   "cell_type": "code",
   "execution_count": null,
   "id": "22f58399-990f-415a-be51-be7c1195de66",
   "metadata": {},
   "outputs": [],
   "source": [
    "F = s1^2 / s2^2 = 10 / 15 = 0.6667"
   ]
  },
  {
   "cell_type": "code",
   "execution_count": null,
   "id": "2c4238a0-5d5e-4bec-ad5f-5d92ac44e435",
   "metadata": {},
   "outputs": [],
   "source": [
    "The degrees of freedom for this test are (n1 - 1) and (n2 - 1), where n1 and n2 are the sample sizes for each population. In this\n",
    "case the degrees of freedom are 11 and 11.\n",
    "\n",
    "Using an F-distribution table or calculator with 11 and 11 degrees of freedom at a significance level of 5%, we find that the\n",
    "critical value is approximately 3.11.\n",
    "\n",
    "Since our calculated F-value (0.6667) is less than the critical value (3.11), we fail to reject the null hypothesis that the \n",
    "variances are equal at a significance level of 5%. Therefore, we can conclude that there is not enough evidence to suggest that the\n",
    "variances are significantly different at a significance level of 5%."
   ]
  },
  {
   "cell_type": "code",
   "execution_count": null,
   "id": "12a1b3dc-c369-4523-8f0a-d8403a151ffc",
   "metadata": {},
   "outputs": [],
   "source": []
  },
  {
   "cell_type": "code",
   "execution_count": null,
   "id": "e2540947-b17a-4e2f-99e9-63b4d316ed67",
   "metadata": {},
   "outputs": [],
   "source": []
  },
  {
   "cell_type": "markdown",
   "id": "184febf8-eeb3-429b-841c-b82c62c629b4",
   "metadata": {},
   "source": [
    "Q5. A manufacturer claims that the variance of the diameter of a certain product is 0.005. A sample of 25\n",
    "products is taken, and the sample variance is found to be 0.006. Conduct an F-test at the 1% significance\n",
    "level to determine if the claim is justified."
   ]
  },
  {
   "cell_type": "markdown",
   "id": "32b1ee9e-d4ba-48e1-8641-7894f8ac9ccb",
   "metadata": {},
   "source": [
    "ANS -"
   ]
  },
  {
   "cell_type": "code",
   "execution_count": null,
   "id": "9223c7cf-2fc6-44bd-984f-26393948ea89",
   "metadata": {},
   "outputs": [],
   "source": [
    "The F-test is used to test the null hypothesis that two normal populations have the same variance. In this case, the manufacturer \n",
    "claims that the variance of the diameter of a certain product is 0.005. A sample of 25 products is taken, and the sample variance is \n",
    "found to be 0.006. The null hypothesis is that the variance of the diameter of a certain product is 0.005. The alternative hypothesis\n",
    "is that the variance of the diameter of a certain product is greater than 0.005.\n",
    "\n",
    "The test statistic for this F-test is calculated as follows:"
   ]
  },
  {
   "cell_type": "code",
   "execution_count": null,
   "id": "68e4ff1e-af16-4883-beb9-ca37d04cc649",
   "metadata": {},
   "outputs": [],
   "source": [
    "F = (sample variance) / (hypothesized variance)"
   ]
  },
  {
   "cell_type": "code",
   "execution_count": 6,
   "id": "780d8a87-79ff-4a2c-af31-f44a130c823d",
   "metadata": {},
   "outputs": [
    {
     "data": {
      "text/plain": [
       "1.2"
      ]
     },
     "execution_count": 6,
     "metadata": {},
     "output_type": "execute_result"
    }
   ],
   "source": [
    "F = 0.006 / 0.005"
   ]
  },
  {
   "cell_type": "code",
   "execution_count": null,
   "id": "71cf0e28-4870-4f98-b3e1-8a83e9beb626",
   "metadata": {},
   "outputs": [],
   "source": [
    "The degrees of freedom for this F-test are (n1 - 1) and (n2 - 1), where n1 and n2 are the sample sizes of the two populations being\n",
    "compared. In this case, n1 = n2 = 25, so the degrees of freedom are 24 and 24.\n",
    "\n",
    "At the 1% significance level, the critical value for an F-distribution with degrees of freedom (24,24) is 2.491. Since our \n",
    "calculated F-value (1.2) is less than the critical value (2.49), we fail to reject the null hypothesis that the variance of the\n",
    "diameter of a certain product is 0.005 at the 1% significance level.\n",
    "\n",
    "Therefore, we can conclude that there is not enough evidence to suggest that the manufacturer’s claim is not justified."
   ]
  },
  {
   "cell_type": "code",
   "execution_count": null,
   "id": "52464d3a-c774-42f1-91af-8ed56a5e257c",
   "metadata": {},
   "outputs": [],
   "source": []
  },
  {
   "cell_type": "code",
   "execution_count": null,
   "id": "b00b0d6b-bb3b-4aaf-a1b7-a120617b4453",
   "metadata": {},
   "outputs": [],
   "source": []
  },
  {
   "cell_type": "code",
   "execution_count": null,
   "id": "8e1b32a4-c3f6-4e75-ba1e-b94edcf8c077",
   "metadata": {},
   "outputs": [],
   "source": [
    "Q6. Write a Python function that takes in the degrees of freedom for the numerator and denominator of an\n",
    "F-distribution and calculates the mean and variance of the distribution. The function should return the\n",
    "mean and variance as a tuple."
   ]
  },
  {
   "cell_type": "markdown",
   "id": "d8d4f7ea-b59e-4fbb-9791-5e231b719a58",
   "metadata": {},
   "source": [
    "ANS -"
   ]
  },
  {
   "cell_type": "code",
   "execution_count": 7,
   "id": "84b0066f-24a7-4957-b8b2-8e2f69ea45c0",
   "metadata": {},
   "outputs": [],
   "source": [
    "import numpy as np\n",
    "\n",
    "def f_distribution(dfn, dfd):\n",
    "    mean = dfd / (dfd - 2)\n",
    "    variance = (2 * dfd ** 2 * (dfn + dfd - 2)) / (dfn * (dfd - 2) ** 2 * (dfd - 4))\n",
    "    return mean, variance\n"
   ]
  },
  {
   "cell_type": "code",
   "execution_count": 8,
   "id": "ab081ada-d00a-48bd-a69c-e3cb037a2635",
   "metadata": {},
   "outputs": [
    {
     "name": "stdout",
     "output_type": "stream",
     "text": [
      "Mean: 1.6666666666666667\n",
      "Variance: 11.11111111111111\n"
     ]
    }
   ],
   "source": [
    "mean, variance = f_distribution(3, 5)\n",
    "print(\"Mean:\", mean)\n",
    "print(\"Variance:\", variance)"
   ]
  },
  {
   "cell_type": "code",
   "execution_count": null,
   "id": "40ea2285-922b-4fdb-bebc-9510bc94815e",
   "metadata": {},
   "outputs": [],
   "source": []
  },
  {
   "cell_type": "code",
   "execution_count": null,
   "id": "60f83e14-0d6e-4c7c-8015-3130b9981a46",
   "metadata": {},
   "outputs": [],
   "source": []
  },
  {
   "cell_type": "code",
   "execution_count": null,
   "id": "2d8e5075-71f7-42e6-951b-0c31043f314a",
   "metadata": {},
   "outputs": [],
   "source": [
    "Q7. A random sample of 10 measurements is taken from a normal population with unknown variance. The\n",
    "sample variance is found to be 25. Another random sample of 15 measurements is taken from another\n",
    "normal population with unknown variance, and the sample variance is found to be 20. Conduct an F-test\n",
    "at the 10% significance level to determine if the variances are significantly different."
   ]
  },
  {
   "cell_type": "markdown",
   "id": "5f6fa8e1-1963-4eca-b9d6-8c08fc837758",
   "metadata": {},
   "source": [
    "ANS -"
   ]
  },
  {
   "cell_type": "code",
   "execution_count": null,
   "id": "9a01300a-b818-4452-ae0a-c2c7186a43b0",
   "metadata": {},
   "outputs": [],
   "source": [
    "An F-test is used to test the null hypothesis that two normal populations have the same variance. The F-test is used when the \n",
    "difference between two variances needs to be significantly assessed, i.e., when determining whether or not two samples can be taken\n",
    "as representative of the normal population with the same variance1.\n",
    "\n",
    "In your case, you have two samples with sample variances 25 and 20 respectively. You want to conduct an F-test at the 10%\n",
    "significance level to determine if the variances are significantly different. The null hypothesis is that the variances are equal \n",
    "and the alternative hypothesis is that they are not equal.\n",
    "\n",
    "The test statistic for this test is given by:\n",
    "\n",
    "F = s1^2 / s2^2\n",
    "\n",
    "where s1^2 and s2^2 are the sample variances of the two samples.\n",
    "\n",
    "The degrees of freedom for this test are given by:\n",
    "\n",
    "df1 = n1 - 1 df2 = n2 - 1\n",
    "\n",
    "where n1 and n2 are the sample sizes of the two samples.\n",
    "\n",
    "Using these values, we can calculate the p-value for this test. If the p-value is less than or equal to 0.10, we reject the null \n",
    "hypothesis and conclude that the variances are significantly different"
   ]
  },
  {
   "cell_type": "code",
   "execution_count": null,
   "id": "30f1bf05-93d5-4c38-82cd-91885949ab60",
   "metadata": {},
   "outputs": [],
   "source": []
  },
  {
   "cell_type": "code",
   "execution_count": null,
   "id": "46e9a0e8-bd4e-4ea0-8adf-47dd8640dd60",
   "metadata": {},
   "outputs": [],
   "source": []
  },
  {
   "cell_type": "code",
   "execution_count": null,
   "id": "8d8b2b2d-9d51-4334-99d5-0d4bc4a91ec7",
   "metadata": {},
   "outputs": [],
   "source": [
    "Q8. The following data represent the waiting times in minutes at two different restaurants on a Saturday\n",
    "night: Restaurant A: 24, 25, 28, 23, 22, 20, 27; Restaurant B: 31, 33, 35, 30, 32, 36. Conduct an F-test at the 5%\n",
    "significance level to determine if the variances are significantly different."
   ]
  },
  {
   "cell_type": "markdown",
   "id": "a05cf47a-90cc-4e53-b62b-9c659f5081d7",
   "metadata": {},
   "source": [
    "ANS -"
   ]
  },
  {
   "cell_type": "code",
   "execution_count": null,
   "id": "b4b141b0-6238-4bd6-a48a-8b238cf2c5cc",
   "metadata": {},
   "outputs": [],
   "source": [
    "To determine if the variances are significantly different, we can conduct an F-test at the 5% significance level. The formula for the\n",
    "test statistic is F = s12/s22 where s1^2 is the variance of the first sample and s2^2 is the variance of the second sample. The null\n",
    "hypothesis is that the variances are equal and the alternative hypothesis is that they are not equal. If the calculated F-value is \n",
    "greater than the critical value from an F-distribution table at a 5% significance level, then we reject the null hypothesis and \n",
    "conclude that the variances are significantly different12.\n",
    "\n",
    "In this case, we have two samples: Restaurant A and Restaurant B. The variance of Restaurant A is 8.2857 and the variance of\n",
    "Restaurant B is 4.8. The calculated F-value is 1.7266 which is less than the critical value of 5.1434 from an F-distribution table \n",
    "at a 5% significance level1. Therefore, we fail to reject the null hypothesis and conclude that there is not enough evidence to\n",
    "suggest that the variances are significantly different."
   ]
  },
  {
   "cell_type": "code",
   "execution_count": null,
   "id": "e8003909-b463-4a0c-8925-368b9b324c38",
   "metadata": {},
   "outputs": [],
   "source": []
  },
  {
   "cell_type": "code",
   "execution_count": null,
   "id": "38cc14ca-75e4-431f-a81f-3cfd08aab757",
   "metadata": {},
   "outputs": [],
   "source": []
  },
  {
   "cell_type": "code",
   "execution_count": null,
   "id": "8a3c8b4b-b141-46b7-8d64-acb37c4e85f7",
   "metadata": {},
   "outputs": [],
   "source": [
    "Q9. The following data represent the test scores of two groups of students: Group A: 80, 85, 90, 92, 87, 83;\n",
    "Group B: 75, 78, 82, 79, 81, 84. Conduct an F-test at the 1% significance level to determine if the variances\n",
    "are significantly different."
   ]
  },
  {
   "cell_type": "markdown",
   "id": "dc59a009-f29b-48bf-b07b-b4a3c1a72016",
   "metadata": {},
   "source": [
    "ANS -"
   ]
  },
  {
   "cell_type": "code",
   "execution_count": null,
   "id": "786e5ede-7021-4bde-b43d-c72e580c684c",
   "metadata": {},
   "outputs": [],
   "source": [
    "To conduct an F-test at the 1% significance level to determine if the variances are significantly different, we can use the formula\n",
    "for the test statistic which is F = s12/s22 where s1^2 and s2^2 are the sample variances of group A and group B respectively.\n",
    "The null hypothesis is that the variances are equal and the alternative hypothesis is that they are not equal.\n",
    "\n",
    "The degrees of freedom for the numerator is n1-1 and for the denominator is n2-1 where n1 and n2 are the sample sizes of group A\n",
    "and group B respectively.\n",
    "\n",
    "At 1% significance level, we can use F0.01 with degrees of freedom (n1-1) and (n2-1) to determine if the null hypothesis should be \n",
    "rejected or not. If F > F0.01, we reject the null hypothesis and conclude that the variances are significantly different. Otherwise,\n",
    "we fail to reject the null hypothesis.\n",
    "\n",
    "Using this formula and data provided in your question, we can calculate F as follows:\n",
    "\n",
    "s1^2 = 30.5 s2^2 = 6.8 n1 = 6 n2 = 6\n",
    "\n",
    "F = s12/s22 = 30.5/6.8 = 4.48\n",
    "\n",
    "Using F0.01 with degrees of freedom (5) and (5), we get F0.01 = 6.61.\n",
    "\n",
    "Since F < F0.01, we fail to reject the null hypothesis and conclude that there is not enough evidence to suggest that the variances \n",
    "are significantly different at 1% significance level."
   ]
  },
  {
   "cell_type": "code",
   "execution_count": null,
   "id": "9aafd4b5-e450-47ff-856a-84a1d51dfe5d",
   "metadata": {},
   "outputs": [],
   "source": []
  }
 ],
 "metadata": {
  "kernelspec": {
   "display_name": "Python 3 (ipykernel)",
   "language": "python",
   "name": "python3"
  },
  "language_info": {
   "codemirror_mode": {
    "name": "ipython",
    "version": 3
   },
   "file_extension": ".py",
   "mimetype": "text/x-python",
   "name": "python",
   "nbconvert_exporter": "python",
   "pygments_lexer": "ipython3",
   "version": "3.10.8"
  }
 },
 "nbformat": 4,
 "nbformat_minor": 5
}
